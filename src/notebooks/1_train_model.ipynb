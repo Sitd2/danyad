{
 "cells": [
  {
   "cell_type": "code",
   "execution_count": 1,
   "id": "df40c9aa-f1ae-4816-b140-365c667b1043",
   "metadata": {},
   "outputs": [],
   "source": [
    "%load_ext autoreload\n",
    "%autoreload 2"
   ]
  },
  {
   "cell_type": "code",
   "execution_count": 10,
   "id": "3592d731-4ab3-4d5c-982e-9c93016af72a",
   "metadata": {},
   "outputs": [],
   "source": [
    "import sys\n",
    "from pathlib import Path\n",
    "import numpy as np\n",
    "import pandas as pd\n",
    "import matplotlib.pyplot as plt\n",
    "import seaborn as sns\n",
    "\n",
    "from sklearn.pipeline import Pipeline\n",
    "from sklearn.compose import ColumnTransformer\n",
    "from sklearn.model_selection import GridSearchCV, cross_val_score\n",
    "from sklearn.preprocessing import StandardScaler, OneHotEncoder, scale, PolynomialFeatures\n",
    "from sklearn.linear_model import LinearRegression, Ridge, Lasso, ElasticNet\n",
    "from sklearn.metrics import mean_absolute_percentage_error, mean_squared_error, r2_score"
   ]
  },
  {
   "cell_type": "markdown",
   "id": "abc44663-00aa-4c62-a34d-ba155c67a3ad",
   "metadata": {},
   "source": [
    "# Подготовка путей"
   ]
  },
  {
   "cell_type": "code",
   "execution_count": 3,
   "id": "c035d685-2805-430c-b084-cc5b4a609828",
   "metadata": {},
   "outputs": [
    {
     "data": {
      "text/plain": [
       "'/Users/sitd1/0_python_projects/danyad/src'"
      ]
     },
     "execution_count": 3,
     "metadata": {},
     "output_type": "execute_result"
    }
   ],
   "source": [
    "src_path = Path('.').absolute().parents[0]\n",
    "sys.path.insert(0, f'{src_path}')\n",
    "sys.path[0]"
   ]
  },
  {
   "cell_type": "markdown",
   "id": "9a2786ab-6367-4210-82e6-ddea76cd80cb",
   "metadata": {},
   "source": [
    "# Чтение файла"
   ]
  },
  {
   "cell_type": "code",
   "execution_count": 4,
   "id": "15573a7f-291e-4823-9f8a-2178bf3365e8",
   "metadata": {},
   "outputs": [],
   "source": [
    "data_folder = src_path / 'data'"
   ]
  },
  {
   "cell_type": "code",
   "execution_count": 5,
   "id": "90ee43c8-33ed-47d0-8742-9ece5a94a6f5",
   "metadata": {},
   "outputs": [],
   "source": [
    "df = pd.read_csv(data_folder / 'data.csv', sep=';')"
   ]
  },
  {
   "cell_type": "code",
   "execution_count": 6,
   "id": "0089e5c5-94b7-4b90-bce3-e2f661990b72",
   "metadata": {},
   "outputs": [
    {
     "name": "stdout",
     "output_type": "stream",
     "text": [
      "(84, 18)\n"
     ]
    },
    {
     "data": {
      "text/html": [
       "<div>\n",
       "<style scoped>\n",
       "    .dataframe tbody tr th:only-of-type {\n",
       "        vertical-align: middle;\n",
       "    }\n",
       "\n",
       "    .dataframe tbody tr th {\n",
       "        vertical-align: top;\n",
       "    }\n",
       "\n",
       "    .dataframe thead th {\n",
       "        text-align: right;\n",
       "    }\n",
       "</style>\n",
       "<table border=\"1\" class=\"dataframe\">\n",
       "  <thead>\n",
       "    <tr style=\"text-align: right;\">\n",
       "      <th></th>\n",
       "      <th>Z1</th>\n",
       "      <th>Z2</th>\n",
       "      <th>X1</th>\n",
       "      <th>X2</th>\n",
       "      <th>X3</th>\n",
       "      <th>X4</th>\n",
       "      <th>X5</th>\n",
       "      <th>X6</th>\n",
       "      <th>X7</th>\n",
       "      <th>Z3</th>\n",
       "      <th>Z4</th>\n",
       "      <th>Z5</th>\n",
       "      <th>Z6</th>\n",
       "      <th>X8</th>\n",
       "      <th>Z7</th>\n",
       "      <th>Z8</th>\n",
       "      <th>X9</th>\n",
       "      <th>Y</th>\n",
       "    </tr>\n",
       "  </thead>\n",
       "  <tbody>\n",
       "    <tr>\n",
       "      <th>0</th>\n",
       "      <td>Ж</td>\n",
       "      <td>Гастрошунтирование</td>\n",
       "      <td>52.021918</td>\n",
       "      <td>4.619178</td>\n",
       "      <td>45.724737</td>\n",
       "      <td>40.771224</td>\n",
       "      <td>30.483158</td>\n",
       "      <td>3500</td>\n",
       "      <td>25.529645</td>\n",
       "      <td>3</td>\n",
       "      <td>Да</td>\n",
       "      <td>Да</td>\n",
       "      <td>Да</td>\n",
       "      <td>9.136986</td>\n",
       "      <td>Нет</td>\n",
       "      <td>Комбинированная терапия без инсулина</td>\n",
       "      <td>0.075</td>\n",
       "      <td>0.059</td>\n",
       "    </tr>\n",
       "    <tr>\n",
       "      <th>1</th>\n",
       "      <td>Ж</td>\n",
       "      <td>Гастрошунтирование</td>\n",
       "      <td>52.046575</td>\n",
       "      <td>4.871233</td>\n",
       "      <td>45.785640</td>\n",
       "      <td>44.953174</td>\n",
       "      <td>29.136316</td>\n",
       "      <td>2100</td>\n",
       "      <td>27.887617</td>\n",
       "      <td>2</td>\n",
       "      <td>Да</td>\n",
       "      <td>Да</td>\n",
       "      <td>Да</td>\n",
       "      <td>2.238356</td>\n",
       "      <td>Нет</td>\n",
       "      <td>Монотерапия без инсулина</td>\n",
       "      <td>0.065</td>\n",
       "      <td>0.059</td>\n",
       "    </tr>\n",
       "  </tbody>\n",
       "</table>\n",
       "</div>"
      ],
      "text/plain": [
       "  Z1                  Z2         X1        X2         X3         X4  \\\n",
       "0  Ж  Гастрошунтирование  52.021918  4.619178  45.724737  40.771224   \n",
       "1  Ж  Гастрошунтирование  52.046575  4.871233  45.785640  44.953174   \n",
       "\n",
       "          X5    X6         X7 Z3  Z4  Z5  Z6        X8   Z7  \\\n",
       "0  30.483158  3500  25.529645  3  Да  Да  Да  9.136986  Нет   \n",
       "1  29.136316  2100  27.887617  2  Да  Да  Да  2.238356  Нет   \n",
       "\n",
       "                                     Z8     X9      Y  \n",
       "0  Комбинированная терапия без инсулина  0.075  0.059  \n",
       "1              Монотерапия без инсулина  0.065  0.059  "
      ]
     },
     "execution_count": 6,
     "metadata": {},
     "output_type": "execute_result"
    }
   ],
   "source": [
    "print(df.shape)\n",
    "df.head(2)"
   ]
  },
  {
   "cell_type": "markdown",
   "id": "254bfca7-c81c-4115-8b57-f89512e5263b",
   "metadata": {},
   "source": [
    "# Предподготовка переменных"
   ]
  },
  {
   "cell_type": "code",
   "execution_count": 7,
   "id": "0019dcdc-cf1e-4c9c-8e37-8121f1fa85c2",
   "metadata": {},
   "outputs": [],
   "source": [
    "target_name = 'Y'\n",
    "features = df.columns.drop(target_name)\n",
    "features_categorical = [el for el in features if 'z' in el.lower()]\n",
    "features_numerical = features.difference(features_categorical)"
   ]
  },
  {
   "cell_type": "markdown",
   "id": "60d04aed-132c-45c6-ba0e-03e71ae149ce",
   "metadata": {},
   "source": [
    "# Подготовка к обучению"
   ]
  },
  {
   "cell_type": "code",
   "execution_count": 11,
   "id": "fc910e6b-fe8a-46e5-bbff-f3e624fb5dd2",
   "metadata": {},
   "outputs": [],
   "source": [
    "preprocessor = ColumnTransformer(\n",
    "    transformers=[\n",
    "        ('num', StandardScaler(), features_numerical),\n",
    "        ('cat', OneHotEncoder(), features_categorical)\n",
    "    ])\n",
    "\n",
    "pipeline = Pipeline(steps=[('preprocessor', preprocessor),\n",
    "                           ('regressor', LinearRegression())])\n",
    "\n",
    "# Define the parameter grid for GridSearchCV\n",
    "param_grid = {\n",
    "    'regressor__fit_intercept': [True, False],\n",
    "    'regressor__normalize': [True, False]\n",
    "}"
   ]
  },
  {
   "cell_type": "code",
   "execution_count": 12,
   "id": "3d299d49-43e3-43e9-9bca-2c693f02ebd7",
   "metadata": {},
   "outputs": [
    {
     "ename": "NameError",
     "evalue": "name 'X' is not defined",
     "output_type": "error",
     "traceback": [
      "\u001b[0;31m---------------------------------------------------------------------------\u001b[0m",
      "\u001b[0;31mNameError\u001b[0m                                 Traceback (most recent call last)",
      "Cell \u001b[0;32mIn[12], line 3\u001b[0m\n\u001b[1;32m      1\u001b[0m \u001b[38;5;66;03m# Perform GridSearchCV\u001b[39;00m\n\u001b[1;32m      2\u001b[0m grid_search \u001b[38;5;241m=\u001b[39m GridSearchCV(pipeline, param_grid, cv\u001b[38;5;241m=\u001b[39m\u001b[38;5;241m5\u001b[39m)\n\u001b[0;32m----> 3\u001b[0m grid_search\u001b[38;5;241m.\u001b[39mfit(\u001b[43mX\u001b[49m, y)\n\u001b[1;32m      5\u001b[0m \u001b[38;5;66;03m# Print the best parameters and best score\u001b[39;00m\n\u001b[1;32m      6\u001b[0m \u001b[38;5;28mprint\u001b[39m(\u001b[38;5;124m\"\u001b[39m\u001b[38;5;124mBest parameters found: \u001b[39m\u001b[38;5;124m\"\u001b[39m, grid_search\u001b[38;5;241m.\u001b[39mbest_params_)\n",
      "\u001b[0;31mNameError\u001b[0m: name 'X' is not defined"
     ]
    }
   ],
   "source": [
    "\n",
    "# Perform GridSearchCV\n",
    "grid_search = GridSearchCV(pipeline, param_grid, cv=5)\n",
    "grid_search.fit(X, y)\n",
    "\n",
    "# Print the best parameters and best score\n",
    "print(\"Best parameters found: \", grid_search.best_params_)\n",
    "print(\"Best score found: \", grid_search.best_score_)"
   ]
  },
  {
   "cell_type": "code",
   "execution_count": null,
   "id": "c908be90-a101-422d-9d7a-13bda6427e8f",
   "metadata": {},
   "outputs": [],
   "source": []
  }
 ],
 "metadata": {
  "kernelspec": {
   "display_name": "Python 3 (ipykernel)",
   "language": "python",
   "name": "python3"
  },
  "language_info": {
   "codemirror_mode": {
    "name": "ipython",
    "version": 3
   },
   "file_extension": ".py",
   "mimetype": "text/x-python",
   "name": "python",
   "nbconvert_exporter": "python",
   "pygments_lexer": "ipython3",
   "version": "3.11.5"
  }
 },
 "nbformat": 4,
 "nbformat_minor": 5
}
